{
 "cells": [
  {
   "cell_type": "markdown",
   "id": "874ee616-0d92-4a79-8825-8dcb9c4bcf86",
   "metadata": {},
   "source": [
    "dataset can be downloaded from https://www.kaggle.com/datasets/sbhatti/news-summarization"
   ]
  },
  {
   "cell_type": "code",
   "execution_count": 1,
   "id": "448b7b50-c419-4806-b97f-d7f68a42c8d7",
   "metadata": {},
   "outputs": [],
   "source": [
    "import pandas as pd"
   ]
  },
  {
   "cell_type": "code",
   "execution_count": 2,
   "id": "0607dd7a-8f9c-41d2-a3df-626e478545a5",
   "metadata": {},
   "outputs": [],
   "source": [
    "df = pd.read_csv('data/data.csv', usecols=['Content', 'Summary'])\n",
    "\n",
    "# Remove samples that have missing content and/or summary since we need both\n",
    "df = df[(~df['Content'].isna()) & (~df['Summary'].isna())]"
   ]
  },
  {
   "cell_type": "code",
   "execution_count": 4,
   "id": "cd1908ca-5611-42f4-b977-fe3d4a9ca702",
   "metadata": {},
   "outputs": [
    {
     "data": {
      "text/html": [
       "<div>\n",
       "<style scoped>\n",
       "    .dataframe tbody tr th:only-of-type {\n",
       "        vertical-align: middle;\n",
       "    }\n",
       "\n",
       "    .dataframe tbody tr th {\n",
       "        vertical-align: top;\n",
       "    }\n",
       "\n",
       "    .dataframe thead th {\n",
       "        text-align: right;\n",
       "    }\n",
       "</style>\n",
       "<table border=\"1\" class=\"dataframe\">\n",
       "  <thead>\n",
       "    <tr style=\"text-align: right;\">\n",
       "      <th></th>\n",
       "      <th>Content</th>\n",
       "      <th>Summary</th>\n",
       "    </tr>\n",
       "  </thead>\n",
       "  <tbody>\n",
       "    <tr>\n",
       "      <th>0</th>\n",
       "      <td>New York police are concerned drones could bec...</td>\n",
       "      <td>Police have investigated criminals who have ri...</td>\n",
       "    </tr>\n",
       "    <tr>\n",
       "      <th>1</th>\n",
       "      <td>By . Ryan Lipman . Perhaps Australian porn sta...</td>\n",
       "      <td>Porn star Angela White secretly filmed sex act...</td>\n",
       "    </tr>\n",
       "    <tr>\n",
       "      <th>2</th>\n",
       "      <td>This was, Sergio Garcia conceded, much like be...</td>\n",
       "      <td>American draws inspiration from fellow country...</td>\n",
       "    </tr>\n",
       "    <tr>\n",
       "      <th>3</th>\n",
       "      <td>An Ebola outbreak that began in Guinea four mo...</td>\n",
       "      <td>World Health Organisation: 635 infections and ...</td>\n",
       "    </tr>\n",
       "    <tr>\n",
       "      <th>4</th>\n",
       "      <td>By . Associated Press and Daily Mail Reporter ...</td>\n",
       "      <td>A sinkhole opened up at 5:15am this morning in...</td>\n",
       "    </tr>\n",
       "  </tbody>\n",
       "</table>\n",
       "</div>"
      ],
      "text/plain": [
       "                                             Content  \\\n",
       "0  New York police are concerned drones could bec...   \n",
       "1  By . Ryan Lipman . Perhaps Australian porn sta...   \n",
       "2  This was, Sergio Garcia conceded, much like be...   \n",
       "3  An Ebola outbreak that began in Guinea four mo...   \n",
       "4  By . Associated Press and Daily Mail Reporter ...   \n",
       "\n",
       "                                             Summary  \n",
       "0  Police have investigated criminals who have ri...  \n",
       "1  Porn star Angela White secretly filmed sex act...  \n",
       "2  American draws inspiration from fellow country...  \n",
       "3  World Health Organisation: 635 infections and ...  \n",
       "4  A sinkhole opened up at 5:15am this morning in...  "
      ]
     },
     "execution_count": 4,
     "metadata": {},
     "output_type": "execute_result"
    }
   ],
   "source": [
    "df.head()"
   ]
  },
  {
   "cell_type": "code",
   "execution_count": 12,
   "id": "93447e26-55ab-436a-a1ec-35ca229a9a7f",
   "metadata": {},
   "outputs": [
    {
     "data": {
      "text/plain": [
       "(870487, 2)"
      ]
     },
     "execution_count": 12,
     "metadata": {},
     "output_type": "execute_result"
    }
   ],
   "source": [
    "df.shape"
   ]
  },
  {
   "cell_type": "code",
   "execution_count": 6,
   "id": "a72a41eb-8354-4550-a682-78326e304a91",
   "metadata": {},
   "outputs": [],
   "source": [
    "df['Content'] = df['Content'].str.replace('\\xa0', ' ', regex=False)"
   ]
  },
  {
   "cell_type": "markdown",
   "id": "e4d30591-0d6d-4865-925d-85527dec6302",
   "metadata": {},
   "source": [
    "TODO\n",
    "\n",
    "1. Repetitive line breaks (\\n)\n",
    "2. Some contain Advertisement after article. Since all articles have different format of having advertisement (for example, an ad can appear before or after news article). Drop any articles that contain this word. This is fine since there are already data samples and only a small portion contain this.\n",
    "3. "
   ]
  },
  {
   "cell_type": "code",
   "execution_count": 19,
   "id": "296ddd88-6d21-49e6-8cf5-e03dadb5f7c1",
   "metadata": {},
   "outputs": [
    {
     "data": {
      "text/plain": [
       "4664"
      ]
     },
     "execution_count": 19,
     "metadata": {},
     "output_type": "execute_result"
    }
   ],
   "source": [
    "df['Content'].str.contains('Advertisement').sum()"
   ]
  },
  {
   "cell_type": "code",
   "execution_count": 17,
   "id": "a3c17b34-15f0-4885-b334-3df148d1a1ac",
   "metadata": {
    "collapsed": true,
    "jupyter": {
     "outputs_hidden": true
    },
    "tags": []
   },
   "outputs": [
    {
     "name": "stdout",
     "output_type": "stream",
     "text": [
      "Photo Advertisement Continue reading the main story \n",
      "  \n",
      " KILLEEN, Tex. — The Army specialist at Fort Hood who killed three and wounded 16 of his fellow soldiers on Wednesday had an angry dispute over a leave request shortly before the shooting rampage, a law enforcement official said Friday. \n",
      "  \n",
      "  \n",
      "  \n",
      "  \n",
      "  \n",
      "  \n",
      "  \n",
      "  \n",
      "  \n",
      " After a meeting where he had sought a leave to attend to family matters, he was clearly agitated and disrespectful when his request was denied, said the official, who asked not to be identified because he was not authorized to discuss the investigation. \n",
      "  \n",
      " Fort Hood officials and a spokesman for Army investigators declined to comment on Friday about the meeting and its role in the shooting, but they confirmed in an afternoon news conference that the specialist, Ivan Lopez, became angry with soldiers from his unit before the attack. Two of those he killed were in his unit, a transportation battalion of the 13th Sustainment Command. Officials stressed that they had still not established a clear motive. \n",
      "  \n",
      " But in an interview with a local Mississippi television station, Theodis Westbrook, of Smithdale, Miss., the father of Sgt. Jonathan Westbrook, who was wounded in the attack, said he was told that a soldier came to Fort Hood’s personnel office, where Sergeant Westbrook worked, to get a leave form. When one of the soldiers told the man to come back the next day to pick that form up, the man left, then returned with a gun and opened fire. \n",
      "  \n",
      " Photo \n",
      "  \n",
      " “The first guy he shot right in front of my son was killed, and then he turned the gun towards Jonathan, aimed it, and fired,” Mr. Westbrook said. “I don’t know how many times he fired, but he hit my son four times.” \n",
      "  \n",
      " The Army has said that Specialist Lopez, who ended his rampage by fatally shooting himself, had been undergoing evaluation for post-traumatic stress disorder and treatment for depression and anxiety. But the post commander, Lt. Gen. Mark A. Milley, said on Friday that his “underlying medical conditions” were not a direct factor in the shootings. \n",
      "  \n",
      " “We believe that the immediate precipitating factor was more likely an escalating argument in his unit area,” General Milley said. \n",
      "  \n",
      " Advertisement Continue reading the main story \n",
      "  \n",
      " Photo \n",
      "  \n",
      " On his Facebook page, Specialist Lopez expressed a variety of concerns — including outrage at Adam Lanza’s shooting rampage in Newtown, Conn., the fear he felt in a convoy in Iraq and, more recently, anger with Army bureaucracy. He arrived on base in February after being transferred from Fort Bliss in El Paso. It was unclear how his writing might help explain his increasingly troubled state of mind. \n",
      "  \n",
      " “Given that the alleged shooter is deceased, the possibility does exist that we may never know exactly why the alleged shooter did what he did,” said Chris Grey, a spokesman for the United States Army Criminal Investigation Command in Quantico, Va., the lead agency investigating the shooting. \n",
      "  \n",
      " Specialist Lopez’s father released a written statement, in Spanish, on Friday in which he suggested that mental illness must have played a role in his son’s actions. “My son could not have been in his right mind,” said Ivan Lopez, the father. “This is not who he was.” \n",
      "  \n",
      " Photo \n",
      "  \n",
      " Advertisement Continue reading the main story \n",
      "  \n",
      " The statement, released in Guayanilla, P.R., where Specialist Lopez grew up and where his family still lives, said that the deaths of his mother and grandfather, along with “the recent changes he experienced in his transfer to the base affected his condition as a result of his experiences as a soldier.” He was divorced from his first wife, who also lives in Puerto Rico with their two children. His second wife and a child lived with him in Texas. \n",
      "  \n",
      " The troubled Facebook posts and comments Specialist Lopez made in the last two years — which are only visible to his friends on the site — appeared as posts from “Ivan Slipknot,” his Facebook identity and a reference to a favorite heavy metal band, friends said. \n",
      "  \n",
      " On March 1, the same day he purchased the .45-caliber semiautomatic pistol he used in the attack, Specialist Lopez wrote an especially angry and vaguely threatening post. “My spiritual peace has all gone away, I am full of hate, I believe now the devil is taking me. I was robbed last night and I’m sure it was two flacos. Green light and thumbs down. It’s just that easy ...” \n",
      "  \n",
      " Continue reading the main story Video \n",
      "  \n",
      " The post was unclear about whether he was referring to an actual robbery, or a figurative robbery in which he was, perhaps, denied something that he felt was owed to him. The term “flacos” literally means thin people, but it is often used in a derogatory fashion to describe those who are too thin, implying that they are drug addicts. However, it is sometimes used to address another man, much as an English-speaking American might call a friend “dude.” \n",
      "  \n",
      " On Feb. 27, he posted a photo of what appeared to be a handgun with the comment “Plaka, plaka, plaka, plaka...,” Puerto Rican slang that means “Bang, bang, bang, bang...” \n",
      "  \n",
      " His posts in November showed him struggling with the death of his mother, Carmen Lopez, a nurse in Guayanilla who died that month, and grappling with problems with the Army at the time of his mother’s death. \n",
      "  \n",
      " Photo \n",
      "  \n",
      " “In shock. Mom died today,” he wrote on Nov. 15. “Thanks for your condolences. I couldn’t answer your calls,” he wrote, blaming Army bureaucracy, which he described with a vulgarity. \n",
      "  \n",
      " One law enforcement official said Specialist Lopez had told others that he should have received more time off after his mother’s death. It was apparently a source of anger for him, the official said. “He felt like he wasn’t being treated fairly,” the official said. “He wasn’t getting what he felt he should have been entitled to.” \n",
      "  \n",
      " On Facebook, he made other posts that appeared noteworthy in light of the shooting. On Oct. 3, he wrote in English, without further explanation: “Looking for a target.” \n",
      "  \n",
      " On Dec. 9, he wrote of his tour of duty in Iraq: “Exact 1 year and 2 days ago, I went out of Iraq having seen, in Falluja, the most brutal explosion at about 1,200 meters.” He described what happened, writing that moments after he turned on the ignition of his vehicle, he saw the mushroom cloud of a large blast not far away. “I was only trying to concentrate on breathing deeply and keeping the focus I needed to finish the mission. There were hours of agony waiting for an attack by insurgents, but we were able to come out of Falluja alive. I was in vehicle #6. The worst part was that vehicle #5 was a diesel truck, the perfect target. And I only thought of seeing my family again.” \n",
      "  \n",
      " Advertisement Continue reading the main story \n",
      "  \n",
      " Advertisement Continue reading the main story \n",
      "  \n",
      " General Milley stressed that Specialist Lopez appeared not to have experienced direct combat while in Iraq and that he was being evaluated for, but had not received a diagnosis of, post-traumatic stress disorder. “So far, we have not discovered any specific traumatic event, wounds received in action, contact with the enemy, or anything else specific that he may have been exposed to while deployed,” the general said. \n",
      "  \n",
      " Of the 16 people wounded on Wednesday, 10 have been treated and released. Three remained at Scott & White Memorial Hospital in Temple, and three others were recovering at the Fort Hood medical center. Army officials identified the three soldiers killed in the attack, for whom they planned on holding a memorial service next week: Sgt. First Class Daniel Michael Ferguson, 39, of Mulberry, Fla.; Staff Sgt. Carlos A. Lazaney-Rodriguez, 38, of Aguadilla, P.R.; and Sgt. Timothy Wayne Owens, 37, of Effingham, Ill. \n",
      "  \n",
      " The first report of the shooting came in at 4:16 p.m. Wednesday, when two soldiers who were wounded made the first call to 911. Officials said the shooting spanned a matter of only minutes over an area encompassing two city blocks, unfolding both inside buildings and outdoors in and near the First Medical Brigade area. Specialist Lopez was mobile at one point, shooting at soldiers as he drove in his vehicle from one location to another. \n",
      "  \n",
      " He then approached a military police sergeant who responded to the 911 call. There was a verbal exchange between them, and then the sergeant drew her weapon and fired a round when Specialist Lopez brandished his weapon. He then placed his gun to his head and fired, killing himself, officials said. ||||| FORT HOOD, Texas (AP) — The Fort Hood soldier who gunned down three other military men before killing himself had an argument with soldiers in his unit before opening fire, and investigators believe his mental condition was not the \"direct precipitating factor\" in the shooting, authorities said Friday. \n",
      "  \n",
      " This photo provided by Glidden Lopez shows Army Spc. Ivan Lopez. Lopez killed three people and wounded 16 others in a shooting at Fort Hood, Texas, on Wednesday, April 2, 2014, before killing himself.... (Associated Press) \n",
      "  \n",
      " This undated photo provided by Glidden Lopez shows Army Spc. Ivan Lopez. Lopez killed three people and wounded 16 others in a shooting at Fort Hood, Texas, on Wednesday, April 2, 2014, before killing... (Associated Press) \n",
      "  \n",
      " This undated image provided by the Texas Department of Public Safety shows Army Spc. Ivan Lopez. Authorities said Lopez killed three people and wounded 16 others in a shooting at Fort Hood, Texas, on... (Associated Press) \n",
      "  \n",
      " This undated photo provided by Glidden Lopez shows Army Spc. Ivan Lopez. Authorities said Lopez killed three people and wounded 16 others in a shooting at Fort Hood, Texas, on Wednesday, April 2, 2014,... (Associated Press) \n",
      "  \n",
      " Lt. Gen. Mark Milley, left,and U.S. Sen. John Cornyn, right, talk to the media near Fort Hood's main gate, Thursday, April 3, 2014, in Fort Hood, Texas. A soldier opened fire Wednesday on fellow service... (Associated Press) \n",
      "  \n",
      " The base's commander, Lt. Gen. Mark Milley, made the remarks about Spc. Ivan Lopez's health a day after officials said his mental condition appeared to be an underlying factor in the attack. \n",
      "  \n",
      " On Friday, Milley said that an \"escalating argument\" precipitated the assault. \n",
      "  \n",
      " Also Friday, Lopez's father said his son had struggled with the recent deaths of his mother and grandfather and the stress of being transferred to a new base. \n",
      "  \n",
      " Lopez's father, who shares the same name, said his son was receiving medical treatment but was a peaceful family man and a hard worker. \n",
      "  \n",
      " \"This is very painful for me,\" the elder Lopez said in the statement from his native Puerto Rico, calling for prayers for the dead and the 16 people who were wounded in the shooting rampage. \"My son could not have been in his right mind. He was not like that.\" \n",
      "  \n",
      " Wednesday's attack was the second at the base since 2009, when 13 people were killed by Army psychiatrist Nidal Hasan, who had said he was angry about being deployed to Afghanistan. \n",
      "  \n",
      " Lopez, an Army truck driver, did a short stint in Iraq in 2011 and told medical personnel he had suffered a traumatic brain injury. The 34-year-old was undergoing treatment for depression and anxiety while being evaluated for post-traumatic stress disorder, base officials said. \n",
      "  \n",
      " But officials said Lopez did not see any combat in Iraq, and had not previously demonstrated a risk of violence. \n",
      "  \n",
      " He seemed to have a clean record that showed no ties to potential terrorists, though military officials said the investigation was ongoing. \n",
      "  \n",
      " A family spokesman said Thursday that Lopez was upset he was granted only a 24-hour leave to attend his mother's funeral in November. That leave was then extended to two days. \n",
      "  \n",
      " Three people who were critically injured in the attack improved to fair condition Friday at Scott & White Memorial Hospital in Temple. A fourth victim was expected to be released later in the day. At the military's request, the hospital said, it would not make the wounded or their families available for media interviews. \n",
      "  \n",
      " Also Friday, Texas Gov. Rick Perry and Sen. Ted Cruz visited wounded at a military hospital. Cruz said he was inspired by a soldier who had suffered a bullet wound to his abdomen, but still shielded other soldiers and called 911. \n",
      "  \n",
      " Investigators searched Lopez's home on Thursday and questioned his wife, who declined to comment in Spanish when reached by phone by The Associated Press. \n",
      "  \n",
      " Lopez walked into a base building around 4 p.m. Wednesday and began firing a .45-caliber semi-automatic pistol. He then got into a vehicle and continued shooting before entering another building on the Army post. He eventually was confronted by military police in a parking lot, Milley said. \n",
      "  \n",
      " As he came within 20 feet of a police officer, the gunman put his hands up but then reached under his jacket and pulled out his gun. The officer drew her own weapon, and the suspect put his gun to his head and pulled the trigger a final time, Milley said. \n",
      "  \n",
      " ___ \n",
      "  \n",
      " Coto reported from San Juan, Puerto Rico. ||||| FORT HOOD, Texas (AP) — The three soldiers killed in a shooting rampage at Fort Hood by another military man had served in the military for years and been deployed to Iraq as well as other places. \n",
      "  \n",
      " Lt. Gen. Mark Milley on Friday identified those killed as 39-year-old Daniel Ferguson, of Mulberry, Fla.; 38-year-old Carlos Lazaney Rodriguez, of Puerto Rico; and 37-year-old Timothy Owens, of Effingham, Ill. \n",
      "  \n",
      " Milley says Spc. Ivan Lopez killed the three Wednesday at the military base after a verbal altercation that escalated. He then killed himself. \n",
      "  \n",
      " Ferguson was a transportation supervisor who had been deployed to Kuwait, Iraq and Afghanistan. \n",
      "  \n",
      " Lazaney Rodriguez was a unit supply sergeant who had served in Kuwait and Iraq. \n",
      "  \n",
      " Owens was a heavy vehicle driver who had also been deployed in Iraq and Kuwait. ||||| Story highlights An \"escalating argument\" may have led to shooting, officials say \n",
      "  \n",
      " Texas Gov. Rick Perry and Sen. Ted Cruz visit some shooting victims \n",
      "  \n",
      " Gunman Ivan Lopez killed three people, wounded 16 others at the Army post \n",
      "  \n",
      " A memorial for three soldiers killed will be held at Fort Hood next Wednesday \n",
      "  \n",
      " Authorities investigating this week's deadly shooting spree at Fort Hood said Friday that an altercation between Spc. Ivan Lopez and his fellow soldiers, rather than a medical condition, may have led to Lopez opening fire. \n",
      "  \n",
      " \"The immediate precipitating factor was more likely an escalating argument in his unit area,\" Lt. Gen. Mark Milley, the post's commanding general, told reporters. \n",
      "  \n",
      " Some of the soldiers involved in the altercation were victims in the shooting, according to Chris Grey, spokesman for the U.S. Army Criminal Investigation Command, who appeared with Milley at a news conference on the sprawling post. \n",
      "  \n",
      " Officials would not release further details about the argument, saying the investigation was still ongoing into what caused the 34-year-old to set out on a shooting spree that left three soldiers dead and 16 wounded before he killed himself. \n",
      "  \n",
      " But the sister of one of the soldiers injured in the attack said that prior to the shooting Lopez stopped by the base's personnel office to pick up a form requesting leave -- or military permission to be away for a time. \n",
      "  \n",
      " Armetra Otis, sister of Sgt. Jonathan Westbrook, said on CNN's \"The Lead\" that her brother \"was at work and a guy came in and asked for a leave form.\" \n",
      "  \n",
      " The soldier was told he would have to come back later, Otis said, \n",
      "  \n",
      " \"And apparently I guess he didn't want to hear that, so he came back and just opened fire, \" Otis said. \n",
      "  \n",
      " \"He shot the first guy he saw and killed him and then turned the gun on my brother and he was shot four times,\" she said. Sgt. Westbrook was released from a hospital Friday, his sister said. \n",
      "  \n",
      " JUST WATCHED 24 hrs at Fort Hood, a wrap Replay More Videos ... MUST WATCH 24 hrs at Fort Hood, a wrap 02:25 \n",
      "  \n",
      " JUST WATCHED Fiancée of Fort Hood victim speaks out Replay More Videos ... MUST WATCH Fiancée of Fort Hood victim speaks out 01:35 \n",
      "  \n",
      " JUST WATCHED 'Altercation' may have preceded shooting Replay More Videos ... MUST WATCH 'Altercation' may have preceded shooting 01:57 \n",
      "  \n",
      " JUST WATCHED Fort Hood shooter underwent treatment Replay More Videos ... MUST WATCH Fort Hood shooter underwent treatment 02:04 \n",
      "  \n",
      " Both Milley and Grey said they did not know if the leave issue in itself led to the altercation. \n",
      "  \n",
      " \"At this time, we have not established a concrete motive,\" Grey said. \n",
      "  \n",
      " Investigators have not uncovered any history of criminal convictions or previous criminal activity by Lopez, nor have they found any links to terrorism. \n",
      "  \n",
      " On Thursday Milley said investigators believed a medical history that indicates an unstable psychiatric or psychological condition may be a \"fundamental causal factor,\" in the shooting. \n",
      "  \n",
      " But on Friday he said investigators \"do not believe\" that his \"underlying medical conditions ... are the direct precipitating factor\" \n",
      "  \n",
      " The shooting blindsided victims, said Dr. Matthew Davis, medical director of trauma services at Scott & White Memorial Hospital in Temple. \n",
      "  \n",
      " \"It was a shocking episode. It felt very surreal,\" he said after speaking to victims. \"It was a very unexpected thing in the middle of a working day.\" \n",
      "  \n",
      " Governor, senator visit \n",
      "  \n",
      " Texas Gov. Rick Perry and the state's junior U.S. senator visited with some of the wounded Friday. \n",
      "  \n",
      " Speaking to reporters at Fort Hood afterward, U.S. Sen. Ted Cruz hailed the bravery of wounded survivors. He recalled the story of one soldier, shot in the abdomen, who called 911 and \"stepped forward\" to save others. \n",
      "  \n",
      " Acknowledging the post has seen two mass shootings since 2009, Perry said there were no easy answers to what happened Wednesday, but that soldiers there will \"recover from this latest tragedy.\" \n",
      "  \n",
      " \"We'll learn lessons about what occurred here and minimize the chances of this ever happening again,\" Perry said. \n",
      "  \n",
      " Perry and Cruz declined to answer questions about whether soldiers should be able to carry concealed weapons on base. Right now, Perry said, the focus should be on those who were wounded or killed Wednesday. \n",
      "  \n",
      " The conditions of three victims, who were previously listed as critical, have been upgraded to fair, Scott & White Memorial Hospital posted on Twitter on Friday morning. \n",
      "  \n",
      " Five have been discharged from the hospital. Of the four remaining Friday morning, one was expected to go home later in the day, the hospital said. \n",
      "  \n",
      " Milley announced Friday afternoon that the three soldiers killed will be remembered in a memorial service at the post next Wednesday, exactly one week after the attack. \n",
      "  \n",
      " The rampage \n",
      "  \n",
      " The shooting started about 4 p.m. Wednesday when Lopez walked into an administration building at the base and opened fire with his .45-caliber semiautomatic pistol. \n",
      "  \n",
      " 11 photos: Fort Hood shooting 11 photos: Fort Hood shooting Fort Hood shooting – Luci Hamlin and her husband, Spc. Timothy Hamlin, wait to get back to their home at Fort Hood after a shooting at the Texas Army post on Wednesday, April 2. Multiple people were killed and others injured when a shooter opened fire, a senior military official and law enforcement official told CNN. The officials said the suspected shooter was among the dead. Hide Caption 1 of 11 11 photos: Fort Hood shooting Fort Hood shooting – A police officer checks drivers' IDs outside the main gate at Fort Hood. Hide Caption 2 of 11 11 photos: Fort Hood shooting Fort Hood shooting – Krystina Cassidy and Dianna Simpson, waiting outside the Bernie Beck Gate at Fort Hood, try to contact their husbands, who are stationed at the post. Hide Caption 3 of 11 11 photos: Fort Hood shooting Fort Hood shooting – A Bell County Sheriff's Department official stands near a vehicle as cars are checked at the Bernie Beck Gate. Hide Caption 4 of 11 11 photos: Fort Hood shooting Fort Hood shooting – An ambulance makes its way to Fort Hood. Hide Caption 5 of 11 11 photos: Fort Hood shooting Fort Hood shooting – Military personnel and civilians wait outside Fort Hood for updates on the situation. Hide Caption 6 of 11 11 photos: Fort Hood shooting Fort Hood shooting – Vehicles wait at a closed entrance to Fort Hood. Hide Caption 7 of 11 11 photos: Fort Hood shooting Fort Hood shooting – A military police officer stops a car. Hide Caption 8 of 11 11 photos: Fort Hood shooting Fort Hood shooting – Traffic near the main gate of Fort Hood. Hide Caption 9 of 11 11 photos: Fort Hood shooting Fort Hood shooting – Lt. Savanah Hess, a nurse, waits in her car to enter the locked-down post. Hide Caption 10 of 11 11 photos: Fort Hood shooting Fort Hood shooting – Military police direct traffic outside Fort Hood. Hide Caption 11 of 11 \n",
      "  \n",
      " JUST WATCHED Obama: We will get to the bottom of this Replay More Videos ... MUST WATCH Obama: We will get to the bottom of this 02:14 \n",
      "  \n",
      " He then got into a car, fired from the vehicle, got out of the car, walked into another nearby administration building and fired again. \n",
      "  \n",
      " One of the locations was the medical brigade, the other the transportation battalion. Lopez was assigned to the 13th Sustainment Command, which deals with logistics. In his work, he had regular dealings with the transportation battalion. \n",
      "  \n",
      " But authorities have \"no indication at this time\" that Lopez was targeting specific soldiers when he opened fire on the Army post, Milley said. \n",
      "  \n",
      " The base, which has more than 45,000 soldiers and nearly 9,000 civilian employees, went on lockdown after the shooting began. \n",
      "  \n",
      " A short time later, a military police officer came face to face with Lopez. Both he and she drew their weapons, Milley said. \n",
      "  \n",
      " Lopez put the gun to his head and pulled the trigger, ending his life. \n",
      "  \n",
      " At Lopez's apartment, his wife was watching news reports about the spree, worrying about her husband, from whom she had not heard all afternoon, said neighbor Xanderia Morris, who tried to console her. \n",
      "  \n",
      " But Lopez's wife had no idea that he was the shooter until a local TV station identified the dead gunman. His widow became \"hysterical\" when she heard the news, Morris said. \n",
      "  \n",
      " Officers picked up Lopez's widow at their apartment near the base in Killeen, and she was cooperating with law enforcement, an FBI official told CNN. \n",
      "  \n",
      " Depression, anxiety \n",
      "  \n",
      " Lopez hailed from Puerto Rico, where he served in the National Guard from 1999 until 2010 before moving to the U.S. Army. \n",
      "  \n",
      " He had two deployments as an infantryman, including a four-month stint in Iraq in 2011 as a truck driver, Milley said. \n",
      "  \n",
      " Before coming to Fort Hood in February, Lopez served at Fort Bliss in Texas. \n",
      "  \n",
      " He, his wife and their daughter moved into an apartment a little more than a week before the shooting. \n",
      "  \n",
      " They appeared to be a normal couple, smiling \"whenever they'd see someone,\" Morris said. \n",
      "  \n",
      " But behind Lopez's smile lay a history of depression, anxiety and other psychiatric disorders, Milley told reporters. The soldier was receiving treatment and taking antidepressants, he said. \n",
      "  \n",
      " Army records don't show him as having been wounded in Iraq, but Lopez reported that he had suffered a traumatic brain injury, Milley said. \n",
      "  \n",
      " The shooter \"had a clean record\" behaviorally, Army Secretary John McHugh said. And he gave no sign during a psychiatric exam last month that he was likely to become violent. \n",
      "  \n",
      " Lopez had also been prescribed the sedative Ambien, McHugh said. \n",
      "  \n",
      " Investigators who searched his home have found no significant physical evidence, such as a suicide note, to indicate motive, a law enforcement official told CNN on Friday on the condition of anonymity. \n",
      "  \n",
      " The official also said that Lopez purchased a \"large amount\" of ammunition when he bought a .45-caliber gun on March 1, and continued to buy more ammunition throughout March. \n",
      "  \n",
      " U.S. law enforcement officials previously said Lopez bought his gun at Guns Galore, a store in Killeen. \n",
      "  \n",
      " The casualties \n",
      "  \n",
      " All those killed in the shooting were military personnel, Milley said. \n",
      "  \n",
      " Sgt. Timothy Owens was one them, his family said in a prepared statement. \n",
      "  \n",
      " \"He was a very outgoing person and enjoyed Taekwondo,\" the statement said. \"He loved his job in the Army and was going to make it a career.\" \n",
      "  \n",
      " Owens, 37, was a counselor in the Army and had served in Iraq. \n",
      "  \n",
      " His mother, Mary Muntean, told CNN affiliate WICS-TV in Springfield, Illinois: \"He was a good person. Why would they shoot a good person that was helping them?\" Owens loved the military and planned to make it his career, his mother told the station. \n",
      "  \n",
      " \"He didn't answer the phone so I left a message on his phone: 'Son, call me so I know if you're OK or not.' Well, never got no call from him. I thought: 'Oh God, please don't let it be,'\" his mother said. \n",
      "  \n",
      " Also killed was Staff Sgt. Carlos A. Lazaney-Rodriguez of Aguadilla, Puerto Rico, according to his aunt, Benny Rodriguez. \n",
      "  \n",
      " Lazaney-Rodriguez, 38, planned to retire from the military soon after serving 20 years, Aguadilla Mayor Carlos Mendez told CNN en Español's Mayra Cuevas. \n",
      "  \n",
      " \"It was a very close-knit family,\" Mendez said \"Excellent, decent, very good people. I know his family and his parents. They are good people.\" \n",
      "  \n",
      " Sgt. 1st Class Danny Ferguson also was killed, his fiancée, Kristen Haley, told CNN affiliate WTSP-TV in Tampa, Florida. \n",
      "  \n",
      " Ferguson died trying to hold a door shut to stop the shooter, Haley, also a soldier, told CNN affiliate WTSP-TV in Tampa, Florida. \n",
      "  \n",
      " \"He held that door shut because it wouldn't lock. It seems the doors would be bullet proof, but apparently they're not,\" Haley told the station. \"If he wasn't the one standing there holding those doors closed, that shooter would have been able to get through and shoot everyone else.\" \n",
      "  \n",
      " Haley said Ferguson was a native of Mulberry, Florida, and an outstanding athlete at Mulberry High, where he graduated in 1993. The small town is about 30 miles east of Tampa. \n",
      "  \n",
      " One or two wounded victims may face long-term disabilities, but doctors are working to prevent this, said Davis, the Scott & White Memorial Hospital medical director of trauma services. \n",
      "  \n",
      " Not again \n",
      "  \n",
      " When he first heard about the shooting, Davis says one thought ran through his mind: \"How can this possibly happen again?\" \n",
      "  \n",
      " Less than five years ago, the hospital where Davis works treated casualties after Army Maj. Nidal Malik Hasan killed 13 people and wounded 32 more in a November 2009 shooting at Fort Hood. \n",
      "  \n",
      " Hasan was convicted of 13 counts of murder and 32 counts of attempted murder, and a military jury recommended in August that he be put to death. \n",
      "  \n",
      " The former military psychiatrist told a court he was on a terrorist mission to protect leading members of the Taliban. \n",
      "  \n",
      " Read: Fort Hood shooting: Psychiatric issues 'fundamental underlying causal factor' ||||| The seed for this crawl was a list of every host in the Wayback Machine \n",
      "  \n",
      " This crawl was run at a level 1 (URLs including their embeds, plus the URLs of all outbound links including their embeds) \n",
      "  \n",
      " The WARC files associated with this crawl are not currently available to the general public. |||||\n"
     ]
    }
   ],
   "source": [
    "print(df[df['Content'].str.contains('Advertisement')]['Content'].head(2).tail(1).item())"
   ]
  },
  {
   "cell_type": "code",
   "execution_count": 14,
   "id": "48bc81b5-534a-4520-9846-fd66e99b0152",
   "metadata": {
    "collapsed": true,
    "jupyter": {
     "outputs_hidden": true
    },
    "tags": []
   },
   "outputs": [
    {
     "name": "stdout",
     "output_type": "stream",
     "text": [
      "A woman in China has been slammed online after she prevented firefighters from breaking the window of her luxury car in order to rescue her trapped three-year-old son. \n",
      "  \n",
      " China's state broadcaster CCTV reported that the incident, which occurred in the city of Yiwu in Zhejiang province last Saturday (July 11), triggered an outpouring of anger on social media. \n",
      "  \n",
      " Large crowds had gathered after hearing the boy's cries of help coming from within the BMW, but were surprised to find his unperturbed mother standing outside the car. \n",
      "  \n",
      " With the boy growing visibly weaker as he clawed in vain against the car window, firefighters attempted to break the window but were stopped by the mother. \n",
      "  \n",
      " An eyewitness said the mother insisted that they wait for a locksmith to unlock the car door as she did not want to damage the car. But the firefighters ignored her and ended up smashing the window to rescue her son. \n",
      "  \n",
      " \"It is very dangerous to leave kids inside the car, especially in such heat,\" one firefighter was quoted as saying. \n",
      "  \n",
      " \"The temperature inside the car can soar in a very short time and threaten the child's life.\" \n",
      "  \n",
      " Netizens expressed shock and disgust at the woman's actions. \n",
      "  \n",
      " One wrote sarcastically: \"Looks like the car window is her real son.\" ||||| BMW logos are displayed on a production line in Berlin. Reuters \n",
      "  \n",
      " This post has been updated since it was first published. See note below. \n",
      "  \n",
      " China’s Internet has lit up with debate this week after reports of a mother who left her young son alone in her BMW – then refused to smash the luxury car’s windows in order to rescue him from the heat. \n",
      "  \n",
      " The mother, who has not been named in Chinese news reports, has since denied that she opposed smashing the window and says that she tried to break it herself, to no avail. \n",
      "  \n",
      " Advertisement \n",
      "  \n",
      " The incident took place last Saturday night, when firefighters in the city of Yiwu in coastal Zhejiang province received a call alerting them that a child was locked inside a BMW, according to the Zhejiang Online provincial news site. \n",
      "  \n",
      " When the firefighters arrived, they found a young boy sitting in the driver’s seat of the car, crying and prying at the glass, the report said, citing one of the rescuers. The child had already been trapped in the car for about an hour, it said, and two locksmiths were already at work trying to open the door, while a large crowd was gathered around watching. \n",
      "  \n",
      " According to Zhejiang Online, the firefighters began to negotiate with the child’s mother, who urged them to wait for the locksmiths to open the door. After several minutes they were still unsuccessful, and the crowd began to condemn the mother. Finally, the report said, the firefighters insisted on smashing the glass, saving the frightened child. \n",
      "  \n",
      " Days after the initial report, the mother told the Qianjiang Evening News that the incident had been misunderstood. In an interview published Wednesday, she said that she had tried to break the window using a stone and hammer, and then called the police after her efforts failed. She maintained that she had hoped the locksmiths could open the door as the breaking glass could frighten or injure her 17-month-old son trapped inside. \n",
      "  \n",
      " The Hangzhou-based newspaper also quoted a firefighter who defended the mother and said the confusion could have arisen because she “didn’t say anything” when he initially asked for permission to break the window. \n",
      "  \n",
      " Photos posted online by the website showed large crowds of onlookers blocking a main street as they gathered around a fire engine and the black luxury car. \n",
      "  \n",
      " On China’s Weibo microblogs – where reports of the incident had received more than 7.6 million views as of Thursday afternoon – users responded with fury to the initial report, with many arguing that the mother’s behavior was an example of values gone awry in modern China. \n",
      "  \n",
      " “It’s clear that for this mother, a car is more important than her child,” one Weibo user wrote. \n",
      "  \n",
      " “Leaving a child trapped in a car on such a hot summer day, and then refusing to smash the window? Do you really want your child to suffocate?” wrote another. \n",
      "  \n",
      " Remarked another: “If you encounter this kind of situation, the answer is simple: First smash up the parents, then smash the glass.” \n",
      "  \n",
      " After the mother’s defense, however, some users directed their rage at the media, arguing that the tale was only the latest case of a news story being blown out of proportion. \n",
      "  \n",
      " “Some journalists know that ‘Dog Bites Man’ isn’t really news, so they try to rewrite it as ‘Man Bites Dog,’” one Weibo user wrote Thursday morning. “In the end they just cause a big stir.” \n",
      "  \n",
      " China has experienced dazzling economic growth in recent years, and with it has come soul-searching over whether public values have now shifted toward the pursuit of material wealth at any cost. \n",
      "  \n",
      " Owners of glitzy cars have become a particular scourge, with 80% of respondents in a Hurun Research Institute survey last year saying that they had heard negative news reports involving drivers of luxury vehicles. 70% of the bad publicity was related to BMW owners, the survey said. \n",
      "  \n",
      " –Felicia Sonmez. Follow her on Twitter @feliciasonmez. \n",
      "  \n",
      " (Note: This post has been updated to include comments from the mother and local rescuers in news reports published Wednesday, and subsequent reactions among social media users.) \n",
      "  \n",
      " Sign up for CRT’s daily newsletter to get the latest headlines by email. \n",
      "  \n",
      "  \n",
      "  \n",
      " For the latest news and analysis, follow @ChinaRealTime \n",
      "  \n",
      "  \n",
      "  \n",
      "  ||||| Chinese drivers of BMW cars are seen as newly rich, materialistic showoffs by drivers of other luxury brands. Yet such owners consider themselves relatively discreet entrepreneurs with a positive outlook on life. \n",
      "  \n",
      " That’s just one of the findings of a survey of luxury car owners in China published Wednesday. \n",
      "  \n",
      " The survey, conducted by wealth research firm Hurun Research Institute, compared the images of eight foreign luxury brands vying for a spot in the country’s luxury car market, which is widely expected to overtake the U.S. to become the world’s biggest in the next few years. \n",
      "  \n",
      " But an anticorruption drive by the Chinese government is changing how those living the high life are perceived by a Chinese public that increasingly frowns on ostentatious displays of wealth. \n",
      "  \n",
      " According to the report, 80% of all respondents had heard negative news about luxury car owners, which in years past have included a famous 2011 incident in which one BMW owner, son of a famous military singer, attacked a couple during a road rage episode. Of the bad publicity, 70% was related to BMW owners. \n",
      "  \n",
      " The survey didn’t list similar statistics for other brands. \n",
      "  \n",
      " BMW didn’t respond to requests for comment Wednesday. \n",
      "  \n",
      " One hundred car owners for each of the eight brands were surveyed in selected cities across China between February and October. Respondents, of which three-quarters were male, had an average age of 33.5 years and average family income of just over 1 million yuan, or around $175,000. \n",
      "  \n",
      " The survey found that Audi has the most clearly defined image of all brands, with owners seen as mature, experienced government officials. For some prospective luxury car buyers this can translate into, well, kind of boring. Audi says the days of its brand being closely associated with Chinese bureaucrats have passed and that its image has undergone a transformation toward more vitality. \n",
      "  \n",
      " Of the leading three German brands that dominate China’s market, the self-image of those who drive Daimler’s Mercedes-Benz aligns very closely with how drivers of other luxury cars perceive them—namely, as successful, cultured entrepreneurs. \n",
      "  \n",
      " For what it’s worth, Mercedes drivers also had the highest income among participants. \n",
      "  \n",
      " The image of more recent entrants into China’s luxury car market is also becoming more defined. \n",
      "  \n",
      " Jaguar Land Rover’s sport-utility drivers are seen as young showoffs with new money, the survey found. Land Rover owners had the lowest level of education among survey participants. JLR said Land Rover caters to a broad range of customers in China with diverse backgrounds. \n",
      "  \n",
      " General Motor’s Cadillac drivers were seen as mature and successful (so much for that young, trendy image GM has been spending heavily to cultivate for the brand—from hiring actor Brad Pitt for advertising campaigns to hosting glamorous launch parties on Shanghai’s iconic Bund and sponsoring funky art installations.) \n",
      "  \n",
      " Infiniti drivers were seen as glitzy, glamorous movie-star types whom China Real Time reckons probably need to wait tables by day–Infiniti owners had the lowest income among those surveyed. Infiniti said it targets young-minded premium customers. \n",
      "  \n",
      " As for Volvo? Drivers of the Chinese-owned Swedish brand are seen as—yawn–highly educated, valuable members of society who are family-oriented and morally upright. \n",
      "  \n",
      " –Rose Yu and Colum Murphy \n",
      "  \n",
      " Note: This item has been updated to reflect comment from Jaguar Land Rover. \n",
      "  \n",
      " _____________________________________ \n",
      "  \n",
      " Also popular on China Real Time now: \n",
      "  \n",
      " China’s Over-Reliance on Guaranteed Loans, in 3 Charts \n",
      "  \n",
      " As China Cracks Down on Illegal Videos, Lovers of Foreign TV Mourn |||||\n"
     ]
    }
   ],
   "source": [
    "print(df[df['Content'].str.contains('Advertisement')]['Content'][134])"
   ]
  },
  {
   "cell_type": "code",
   "execution_count": 20,
   "id": "02b2595b-b69d-4061-a3e0-9d1376df62f2",
   "metadata": {},
   "outputs": [],
   "source": [
    "df = df[~df['Content'].str.contains('Advertisement')]"
   ]
  },
  {
   "cell_type": "code",
   "execution_count": 31,
   "id": "414af49b-997a-4046-b759-125570ebf8f4",
   "metadata": {},
   "outputs": [
    {
     "data": {
      "text/plain": [
       "578"
      ]
     },
     "execution_count": 31,
     "metadata": {},
     "output_type": "execute_result"
    }
   ],
   "source": [
    "len(df.loc[870485, 'Content'].split())"
   ]
  },
  {
   "cell_type": "code",
   "execution_count": 35,
   "id": "75d66043-9d06-4e32-adf4-499de07352ec",
   "metadata": {},
   "outputs": [],
   "source": [
    "df['Num Char'] = df['Content'].str.split(' ').str.len()"
   ]
  },
  {
   "cell_type": "code",
   "execution_count": 36,
   "id": "3a9db09b-d8cf-459c-bff5-f97ebd26e4bc",
   "metadata": {},
   "outputs": [
    {
     "data": {
      "text/html": [
       "<div>\n",
       "<style scoped>\n",
       "    .dataframe tbody tr th:only-of-type {\n",
       "        vertical-align: middle;\n",
       "    }\n",
       "\n",
       "    .dataframe tbody tr th {\n",
       "        vertical-align: top;\n",
       "    }\n",
       "\n",
       "    .dataframe thead th {\n",
       "        text-align: right;\n",
       "    }\n",
       "</style>\n",
       "<table border=\"1\" class=\"dataframe\">\n",
       "  <thead>\n",
       "    <tr style=\"text-align: right;\">\n",
       "      <th></th>\n",
       "      <th>Content</th>\n",
       "      <th>Summary</th>\n",
       "      <th>Num Char</th>\n",
       "    </tr>\n",
       "  </thead>\n",
       "  <tbody>\n",
       "    <tr>\n",
       "      <th>0</th>\n",
       "      <td>New York police are concerned drones could bec...</td>\n",
       "      <td>Police have investigated criminals who have ri...</td>\n",
       "      <td>495</td>\n",
       "    </tr>\n",
       "    <tr>\n",
       "      <th>1</th>\n",
       "      <td>By . Ryan Lipman . Perhaps Australian porn sta...</td>\n",
       "      <td>Porn star Angela White secretly filmed sex act...</td>\n",
       "      <td>270</td>\n",
       "    </tr>\n",
       "    <tr>\n",
       "      <th>2</th>\n",
       "      <td>This was, Sergio Garcia conceded, much like be...</td>\n",
       "      <td>American draws inspiration from fellow country...</td>\n",
       "      <td>1032</td>\n",
       "    </tr>\n",
       "    <tr>\n",
       "      <th>3</th>\n",
       "      <td>An Ebola outbreak that began in Guinea four mo...</td>\n",
       "      <td>World Health Organisation: 635 infections and ...</td>\n",
       "      <td>592</td>\n",
       "    </tr>\n",
       "    <tr>\n",
       "      <th>4</th>\n",
       "      <td>By . Associated Press and Daily Mail Reporter ...</td>\n",
       "      <td>A sinkhole opened up at 5:15am this morning in...</td>\n",
       "      <td>556</td>\n",
       "    </tr>\n",
       "  </tbody>\n",
       "</table>\n",
       "</div>"
      ],
      "text/plain": [
       "                                             Content  \\\n",
       "0  New York police are concerned drones could bec...   \n",
       "1  By . Ryan Lipman . Perhaps Australian porn sta...   \n",
       "2  This was, Sergio Garcia conceded, much like be...   \n",
       "3  An Ebola outbreak that began in Guinea four mo...   \n",
       "4  By . Associated Press and Daily Mail Reporter ...   \n",
       "\n",
       "                                             Summary  Num Char  \n",
       "0  Police have investigated criminals who have ri...       495  \n",
       "1  Porn star Angela White secretly filmed sex act...       270  \n",
       "2  American draws inspiration from fellow country...      1032  \n",
       "3  World Health Organisation: 635 infections and ...       592  \n",
       "4  A sinkhole opened up at 5:15am this morning in...       556  "
      ]
     },
     "execution_count": 36,
     "metadata": {},
     "output_type": "execute_result"
    }
   ],
   "source": [
    "df.head()"
   ]
  },
  {
   "cell_type": "code",
   "execution_count": 38,
   "id": "227602c5-d7f8-4120-b196-1c0c7576f3f1",
   "metadata": {},
   "outputs": [],
   "source": [
    "df = df[df['Num Char']<=512]"
   ]
  },
  {
   "cell_type": "markdown",
   "id": "e9df8a04-fc90-4205-ac40-42234f3e2530",
   "metadata": {},
   "source": [
    "Some dots are spaced out when they should be appended to a word, like ending a sentence."
   ]
  },
  {
   "cell_type": "code",
   "execution_count": 39,
   "id": "3617cf45-426c-4948-beba-39e98d54a3db",
   "metadata": {},
   "outputs": [
    {
     "name": "stderr",
     "output_type": "stream",
     "text": [
      "/tmp/ipykernel_4843/2141535117.py:1: SettingWithCopyWarning: \n",
      "A value is trying to be set on a copy of a slice from a DataFrame.\n",
      "Try using .loc[row_indexer,col_indexer] = value instead\n",
      "\n",
      "See the caveats in the documentation: https://pandas.pydata.org/pandas-docs/stable/user_guide/indexing.html#returning-a-view-versus-a-copy\n",
      "  df['Content'] = df['Content'].str.replace(' .', '.', regex=False)\n",
      "/tmp/ipykernel_4843/2141535117.py:2: SettingWithCopyWarning: \n",
      "A value is trying to be set on a copy of a slice from a DataFrame.\n",
      "Try using .loc[row_indexer,col_indexer] = value instead\n",
      "\n",
      "See the caveats in the documentation: https://pandas.pydata.org/pandas-docs/stable/user_guide/indexing.html#returning-a-view-versus-a-copy\n",
      "  df['Summary'] = df['Summary'].str.replace(' .', '.', regex=False)\n"
     ]
    }
   ],
   "source": [
    "df['Content'] = df['Content'].str.replace(' .', '.', regex=False)\n",
    "df['Summary'] = df['Summary'].str.replace(' .', '.', regex=False)"
   ]
  },
  {
   "cell_type": "code",
   "execution_count": 52,
   "id": "199950b7-e596-405f-9df7-cd6f18a69894",
   "metadata": {},
   "outputs": [
    {
     "data": {
      "text/html": [
       "<div>\n",
       "<style scoped>\n",
       "    .dataframe tbody tr th:only-of-type {\n",
       "        vertical-align: middle;\n",
       "    }\n",
       "\n",
       "    .dataframe tbody tr th {\n",
       "        vertical-align: top;\n",
       "    }\n",
       "\n",
       "    .dataframe thead th {\n",
       "        text-align: right;\n",
       "    }\n",
       "</style>\n",
       "<table border=\"1\" class=\"dataframe\">\n",
       "  <thead>\n",
       "    <tr style=\"text-align: right;\">\n",
       "      <th></th>\n",
       "      <th>Content</th>\n",
       "      <th>Summary</th>\n",
       "      <th>Num Char</th>\n",
       "    </tr>\n",
       "  </thead>\n",
       "  <tbody>\n",
       "    <tr>\n",
       "      <th>23</th>\n",
       "      <td>They were taken on as volunteers and the servi...</td>\n",
       "      <td>An extra 60 counsellors were drafted in by the...</td>\n",
       "      <td>395</td>\n",
       "    </tr>\n",
       "    <tr>\n",
       "      <th>24</th>\n",
       "      <td>7 June 2016 Last updated at 20:23 BST\\nTown be...</td>\n",
       "      <td>Terry Butcher has been recalling Alan Brazil's...</td>\n",
       "      <td>80</td>\n",
       "    </tr>\n",
       "    <tr>\n",
       "      <th>30</th>\n",
       "      <td>Storms Desmond, Eva, Frank and Gertrude all ca...</td>\n",
       "      <td>Borders councillors have been told the financi...</td>\n",
       "      <td>128</td>\n",
       "    </tr>\n",
       "    <tr>\n",
       "      <th>33</th>\n",
       "      <td>Russia's economic development ministry estimat...</td>\n",
       "      <td>The Russian government has warned the economy ...</td>\n",
       "      <td>481</td>\n",
       "    </tr>\n",
       "    <tr>\n",
       "      <th>40</th>\n",
       "      <td>This figure could rise further as police conti...</td>\n",
       "      <td>Eleven people are now thought to have died aft...</td>\n",
       "      <td>485</td>\n",
       "    </tr>\n",
       "    <tr>\n",
       "      <th>...</th>\n",
       "      <td>...</td>\n",
       "      <td>...</td>\n",
       "      <td>...</td>\n",
       "    </tr>\n",
       "    <tr>\n",
       "      <th>870472</th>\n",
       "      <td>The 2000 Olympic super-heavyweight champion sa...</td>\n",
       "      <td>Audley Harrison has retired from boxing for a ...</td>\n",
       "      <td>217</td>\n",
       "    </tr>\n",
       "    <tr>\n",
       "      <th>870474</th>\n",
       "      <td>The deal will begin in January and means they ...</td>\n",
       "      <td>Microsoft, Yahoo and AOL have announced an all...</td>\n",
       "      <td>184</td>\n",
       "    </tr>\n",
       "    <tr>\n",
       "      <th>870478</th>\n",
       "      <td>Rabbis Mendel Epstein and Martin Wolmark asked...</td>\n",
       "      <td>Two New Jersey rabbis have been arrested and c...</td>\n",
       "      <td>399</td>\n",
       "    </tr>\n",
       "    <tr>\n",
       "      <th>870479</th>\n",
       "      <td>The Nigeria Football Federation (NFF) wants to...</td>\n",
       "      <td>Nigeria's players understand they will have to...</td>\n",
       "      <td>248</td>\n",
       "    </tr>\n",
       "    <tr>\n",
       "      <th>870481</th>\n",
       "      <td>The first study of its kind in NI charts theft...</td>\n",
       "      <td>One in five older people in Northern Ireland i...</td>\n",
       "      <td>260</td>\n",
       "    </tr>\n",
       "  </tbody>\n",
       "</table>\n",
       "<p>181956 rows × 3 columns</p>\n",
       "</div>"
      ],
      "text/plain": [
       "                                                  Content  \\\n",
       "23      They were taken on as volunteers and the servi...   \n",
       "24      7 June 2016 Last updated at 20:23 BST\\nTown be...   \n",
       "30      Storms Desmond, Eva, Frank and Gertrude all ca...   \n",
       "33      Russia's economic development ministry estimat...   \n",
       "40      This figure could rise further as police conti...   \n",
       "...                                                   ...   \n",
       "870472  The 2000 Olympic super-heavyweight champion sa...   \n",
       "870474  The deal will begin in January and means they ...   \n",
       "870478  Rabbis Mendel Epstein and Martin Wolmark asked...   \n",
       "870479  The Nigeria Football Federation (NFF) wants to...   \n",
       "870481  The first study of its kind in NI charts theft...   \n",
       "\n",
       "                                                  Summary  Num Char  \n",
       "23      An extra 60 counsellors were drafted in by the...       395  \n",
       "24      Terry Butcher has been recalling Alan Brazil's...        80  \n",
       "30      Borders councillors have been told the financi...       128  \n",
       "33      The Russian government has warned the economy ...       481  \n",
       "40      Eleven people are now thought to have died aft...       485  \n",
       "...                                                   ...       ...  \n",
       "870472  Audley Harrison has retired from boxing for a ...       217  \n",
       "870474  Microsoft, Yahoo and AOL have announced an all...       184  \n",
       "870478  Two New Jersey rabbis have been arrested and c...       399  \n",
       "870479  Nigeria's players understand they will have to...       248  \n",
       "870481  One in five older people in Northern Ireland i...       260  \n",
       "\n",
       "[181956 rows x 3 columns]"
      ]
     },
     "execution_count": 52,
     "metadata": {},
     "output_type": "execute_result"
    }
   ],
   "source": [
    "df[df['Content'].str.contains('\\n')]"
   ]
  },
  {
   "cell_type": "code",
   "execution_count": 60,
   "id": "fc9923be-facd-46fc-8bf0-74850973e91f",
   "metadata": {},
   "outputs": [
    {
     "name": "stdout",
     "output_type": "stream",
     "text": [
      "They were taken on as volunteers and the service has since decided to employ an extra four full-time counsellors. Documents seen by the BBC show its welfare and counselling team was almost halved between 2008 and June 2017. The London Fire Brigade said the mental health of staff was a \"main priority\". At least 80 people died in the fire in North Kensington on 14 June. More than 200 firefighters attended the tower block at the time, rescuing 65 people. The extra four full-time counsellors would effectively return staffing levels to those in 2008. The BBC understands there was the equivalent of 9.6 full-time counsellors working for the brigade in 2008. By the time of the fire, the number had been cut to 5.2. The London Fire Brigade is using its reserve budget to pay for the extra counsellors. But London Mayor Sadiq Khan has written to the government asking for it to provide extra funding for the fire service's staffing, as well as aerial appliances and improved breathing apparatus. The fire service did not confirm the extent of the support the 60 voluntary counsellors have given or if they are still being used. Siobhan McGee, a trauma specialist and former London Fire Brigade counsellor, said while firefighters were generally \"very resilient people\" it was normal for symptoms of traumatic stress to occur following a tragedy such as the Grenfell fire. \"They may be experiencing things like physically shaking in their body, elevated heart-rate,\" she told Victoria Derbyshire. \"They might have disturbed sleep, they might have nightmares, they might have induced images and flashbacks.\" She said over time, as trauma memory is processed by the brain, images and memories become less distressing. A spokesman for the London Fire Brigade said every firefighter who attended Grenfell was individually spoken to by a counsellor before they came off duty. \"When they returned to duty our staff also had access to a counsellor, and the brigade counselling team was reinforced by officer support from the NHS and other fire and rescue services,\" the spokesman said. \"Going forward, counsellors are visiting staff this week and carrying out a psychological health check of each individual and identifying further staff who might need support. \"We have an on-call counsellor available to all staff 24/7. The ongoing mental wellbeing of all of our staff continues to be a main priority.\" The Victoria Derbyshire programme is broadcast on weekdays between 09:00 and 11:00 on BBC Two and the BBC News channel.\n"
     ]
    },
    {
     "name": "stderr",
     "output_type": "stream",
     "text": [
      "/tmp/ipykernel_4843/1150274867.py:1: FutureWarning: The default value of regex will change from True to False in a future version.\n",
      "  print(df.loc[[23]]['Content'].str.replace('(\\\\n)', ' ').item())\n"
     ]
    }
   ],
   "source": [
    "print(df.loc[[23]]['Content'].str.replace('(\\\\n)', ' ').item())"
   ]
  },
  {
   "cell_type": "code",
   "execution_count": 61,
   "id": "95f575a1-d5e9-434a-a765-2f80edb371a9",
   "metadata": {},
   "outputs": [
    {
     "name": "stderr",
     "output_type": "stream",
     "text": [
      "/tmp/ipykernel_4843/736956524.py:1: FutureWarning: The default value of regex will change from True to False in a future version.\n",
      "  df['Content'] = df['Content'].str.replace('(\\\\n)', ' ')\n",
      "/tmp/ipykernel_4843/736956524.py:1: SettingWithCopyWarning: \n",
      "A value is trying to be set on a copy of a slice from a DataFrame.\n",
      "Try using .loc[row_indexer,col_indexer] = value instead\n",
      "\n",
      "See the caveats in the documentation: https://pandas.pydata.org/pandas-docs/stable/user_guide/indexing.html#returning-a-view-versus-a-copy\n",
      "  df['Content'] = df['Content'].str.replace('(\\\\n)', ' ')\n"
     ]
    }
   ],
   "source": [
    "df['Content'] = df['Content'].str.replace('(\\\\n)', ' ')"
   ]
  },
  {
   "cell_type": "code",
   "execution_count": 62,
   "id": "1d98b15d-b8a6-47a6-9eeb-c5ac2c880dd1",
   "metadata": {},
   "outputs": [
    {
     "data": {
      "text/html": [
       "<div>\n",
       "<style scoped>\n",
       "    .dataframe tbody tr th:only-of-type {\n",
       "        vertical-align: middle;\n",
       "    }\n",
       "\n",
       "    .dataframe tbody tr th {\n",
       "        vertical-align: top;\n",
       "    }\n",
       "\n",
       "    .dataframe thead th {\n",
       "        text-align: right;\n",
       "    }\n",
       "</style>\n",
       "<table border=\"1\" class=\"dataframe\">\n",
       "  <thead>\n",
       "    <tr style=\"text-align: right;\">\n",
       "      <th></th>\n",
       "      <th>Content</th>\n",
       "      <th>Summary</th>\n",
       "      <th>Num Char</th>\n",
       "    </tr>\n",
       "  </thead>\n",
       "  <tbody>\n",
       "    <tr>\n",
       "      <th>0</th>\n",
       "      <td>New York police are concerned drones could bec...</td>\n",
       "      <td>Police have investigated criminals who have ri...</td>\n",
       "      <td>495</td>\n",
       "    </tr>\n",
       "    <tr>\n",
       "      <th>1</th>\n",
       "      <td>By. Ryan Lipman. Perhaps Australian porn star ...</td>\n",
       "      <td>Porn star Angela White secretly filmed sex act...</td>\n",
       "      <td>270</td>\n",
       "    </tr>\n",
       "    <tr>\n",
       "      <th>13</th>\n",
       "      <td>(CNN) -- Three Delaware day care workers were ...</td>\n",
       "      <td>Police arrested Tiana Harris, 19, Estefania My...</td>\n",
       "      <td>426</td>\n",
       "    </tr>\n",
       "    <tr>\n",
       "      <th>14</th>\n",
       "      <td>By. Tamara Cohen. Fixed Odds Betting Terminals...</td>\n",
       "      <td>Fixed Odds Betting Terminals allow users to sp...</td>\n",
       "      <td>374</td>\n",
       "    </tr>\n",
       "    <tr>\n",
       "      <th>15</th>\n",
       "      <td>By. Cindy Tran for Daily Mail Australia. and A...</td>\n",
       "      <td>Members of a feminist punk band Pussy Riot hav...</td>\n",
       "      <td>403</td>\n",
       "    </tr>\n",
       "  </tbody>\n",
       "</table>\n",
       "</div>"
      ],
      "text/plain": [
       "                                              Content  \\\n",
       "0   New York police are concerned drones could bec...   \n",
       "1   By. Ryan Lipman. Perhaps Australian porn star ...   \n",
       "13  (CNN) -- Three Delaware day care workers were ...   \n",
       "14  By. Tamara Cohen. Fixed Odds Betting Terminals...   \n",
       "15  By. Cindy Tran for Daily Mail Australia. and A...   \n",
       "\n",
       "                                              Summary  Num Char  \n",
       "0   Police have investigated criminals who have ri...       495  \n",
       "1   Porn star Angela White secretly filmed sex act...       270  \n",
       "13  Police arrested Tiana Harris, 19, Estefania My...       426  \n",
       "14  Fixed Odds Betting Terminals allow users to sp...       374  \n",
       "15  Members of a feminist punk band Pussy Riot hav...       403  "
      ]
     },
     "execution_count": 62,
     "metadata": {},
     "output_type": "execute_result"
    }
   ],
   "source": [
    "df.head()"
   ]
  },
  {
   "cell_type": "code",
   "execution_count": 66,
   "id": "90df0dc6-60b5-404e-aeae-18b5486ffd48",
   "metadata": {},
   "outputs": [],
   "source": [
    "# df[['Content', 'Summary']].reset_index(drop=True).to_csv('data/processed_data.csv', index=False)"
   ]
  },
  {
   "cell_type": "code",
   "execution_count": 10,
   "id": "0f0f6bf6-20bc-406c-ba44-2f81005b0f25",
   "metadata": {},
   "outputs": [],
   "source": [
    "import os\n",
    "os.environ[\"TOKENIZERS_PARALLELISM\"] = \"false\"\n",
    "\n",
    "import warnings\n",
    "warnings.filterwarnings(\"ignore\") "
   ]
  },
  {
   "cell_type": "code",
   "execution_count": 11,
   "id": "0a1cf602-a394-43e8-b792-ffc83826d69c",
   "metadata": {},
   "outputs": [],
   "source": [
    "# from huggingface_hub import notebook_login\n",
    "\n",
    "# notebook_login()"
   ]
  },
  {
   "cell_type": "code",
   "execution_count": 12,
   "id": "1fdc2712-63e3-49d5-bbc6-a5429bccbe6e",
   "metadata": {
    "tags": []
   },
   "outputs": [
    {
     "name": "stderr",
     "output_type": "stream",
     "text": [
      "Using custom data configuration default-ddba5c8acb0ba08a\n",
      "Found cached dataset csv (/home/hsong1101/.cache/huggingface/datasets/csv/default-ddba5c8acb0ba08a/0.0.0/6b34fb8fcf56f7c8ba51dc895bfa2bfbe43546f190a60fcf74bb5e8afdcc2317)\n"
     ]
    },
    {
     "data": {
      "text/plain": [
       "DatasetDict({\n",
       "    train: Dataset({\n",
       "        features: ['Content', 'Summary'],\n",
       "        num_rows: 696389\n",
       "    })\n",
       "    test: Dataset({\n",
       "        features: ['Content', 'Summary'],\n",
       "        num_rows: 174098\n",
       "    })\n",
       "})"
      ]
     },
     "execution_count": 12,
     "metadata": {},
     "output_type": "execute_result"
    }
   ],
   "source": [
    "import datasets\n",
    "from datasets import load_dataset\n",
    "\n",
    "df = df[['Content', 'Summary']]\n",
    "\n",
    "dataset = df.train_test_split(test_size=.2)\n",
    "dataset"
   ]
  },
  {
   "cell_type": "code",
   "execution_count": 13,
   "id": "0100b67a-6bbc-41d8-b1b1-a92844e2d8ff",
   "metadata": {},
   "outputs": [
    {
     "name": "stdout",
     "output_type": "stream",
     "text": [
      "Train dataset size: 696389\n",
      "Test dataset size: 174098\n"
     ]
    }
   ],
   "source": [
    "print(f\"Train dataset size: {len(dataset['train'])}\")\n",
    "print(f\"Test dataset size: {len(dataset['test'])}\")"
   ]
  },
  {
   "cell_type": "code",
   "execution_count": 14,
   "id": "49deec16-9e5b-482c-a1c9-f323bdaedd37",
   "metadata": {
    "tags": []
   },
   "outputs": [
    {
     "name": "stdout",
     "output_type": "stream",
     "text": [
      "Content: \n",
      "By . Associated Press . Last updated at 5:14 AM on 2nd November 2011 . A Florida man pleaded not guilty today to hacking into the emails of stars such as Christina Aguilera, Mila Kunis and Scarlett Johansson, whose nude photos were eventually splashed on the Internet. Christopher Chaney, 35, of Jacksonville, Fla., made his first court appearance in California, where he's been indicted on 26 counts, including unauthorized access to a computer and wiretapping. Invaded: Naked pictures of Scarlett Johansson circulated the internet after they were stolen from her phone . If convicted, he faces up to 121 years in prison. U.S. Magistrate Judge Patrick Walsh denied federal prosecutors' request to remand Chaney to custody but modified his bond to $110,000, and he will wear an electronic monitoring device upon his return to Florida. A trial has been scheduled for Dec. 27. Chaney was arrested as part of a yearlong investigation of celebrity hacking that authorities dubbed 'Operation Hackerazzi.' There were more than 50 victims in the case. Some nude photos taken by Johansson herself were posted on the Internet. Chaney offered some material to celebrity blog sites but there wasn't any evidence that he profited from his scheme, authorities said. Chaney is accused of mining through publicly available data to figure out password and security questions for celebrity accounts. Chaney hacked Google, Apple and Yahoo . email accounts beginning last November through February, then hijacked a forwarding feature so that a copy of every email a celebrity received was sent to an account he controlled, according to court documents. He allegedly used the hacker names . 'trainreqsuckswhat,' ''anonygrrl' and 'jaxjaguars911,' and also used the . victims' identities to illegally access and control computers. A search warrant unsealed and obtained by The Associated Press said Chaney's computer hard drive contained numerous private celebrity photos as well as a document that compiled their extensive personal data. Suspect: Christopher Chaney, centre, is accused of mining through publicly available data to hack into the email accounts of more than 50 celebrities like Scarlett Johansson, Christina Aguilera and Mila Kunis . In arguing for a higher bond and time . behind bars, Assistant U.S. Attorney Lisa Feldman said that even after . FBI agents seized the defendant's computer in February, he continued his . hacking scheme against another actress for six months. She declined to reveal the celebrity's name. 'We have great concern that he can't stop himself,' Feldman said. 'We think detention would.' Chaney said he managed to hack into Johansson's email account to send one of her acquaintances an email containing a nude photo of her in exchange for a photo, authorities said. Collection: A search warrant said Christopher Chaney, who appeared in court today, had numerous private celebrity photos as well as a document that compiled their extensive personal data stored on his hard drive . Johansson told Vanity Fair for its December issue that the photos were meant for Ryan Reynolds, who is now her ex-husband. 'There's nothing wrong with that. It's not like I was shooting a porno,' the actress told the magazine. The pair had their divorce finalized by a judge in July. Chaney has apologized for his actions. His attorney, Christopher Chestnut, told AP that his client doesn't want the case to drag on, but the resolution has to be within reason. 'I think he has a crystal clear view of what is at stake,' Chestnut said during Tuesday's hearing. Celebrities who agreed to be named in the . indictment included Mila Kunis, Christina Aguilera and lesser known . actress Renee Olstead, who has a role on TV show The Secret Life of the . American Teenager . The warrant also said Chaney may have stalked a Connecticut woman online for the past 12 years. The document contends there is probable cause that Chaney violated federal charges of stalking and unauthorized access to a computer. Federal prosecutors also said a second woman has stepped forward and made similar accusations that Chaney stalked her online. They declined to comment further. Chaney told the AP the new allegations are completely false. 'I can't accept responsibility for things I didn't do,' Chaney said. Chestnut said the new allegations amount to nothing more than a publicity stunt designed to damage his client's reputation. Mr  Chestnut said: 'The amount of time, money and energy the authorities have spent pursuing a man who didn't sell anything or profit in any way from this alleged activity is truly remarkable, given everything we are going through in this country.' No other charges have been filed against Chaney, who has a 1998 mail fraud conviction in Florida. He was sentenced to four years' probation. Behind the hack: The FBI showed how the celebrities, more 50 in total and many still anonymous, were hacked in six steps .\n",
      "---------------\n",
      "Summary: \n",
      "Christopher Chaney, 35, charged with hacking into the emails of more than 50 celebs, including Scarlett Johansson, Mila Kunis and Christina Aguilera .\n",
      "Scarlett Johansson admits she took the nude photos herself for then-husband Ryan Reynolds .\n",
      "---------------\n"
     ]
    }
   ],
   "source": [
    "from random import randrange\n",
    "\n",
    "\n",
    "sample = dataset['train'][randrange(len(dataset[\"train\"]))]\n",
    "print(f\"Content: \\n{sample['Content']}\\n---------------\")\n",
    "print(f\"Summary: \\n{sample['Summary']}\\n---------------\")"
   ]
  },
  {
   "cell_type": "code",
   "execution_count": 16,
   "id": "ff86c910-274a-4f38-b854-bc4482832c3e",
   "metadata": {
    "tags": []
   },
   "outputs": [
    {
     "data": {
      "application/vnd.jupyter.widget-view+json": {
       "model_id": "cc3f69867dce45488e132d3860c4d18c",
       "version_major": 2,
       "version_minor": 0
      },
      "text/plain": [
       "A Jupyter Widget"
      ]
     },
     "metadata": {},
     "output_type": "display_data"
    },
    {
     "name": "stdout",
     "output_type": "stream",
     "text": [
      "Max target length: 512\n"
     ]
    }
   ],
   "source": [
    "from datasets import concatenate_datasets\n",
    "\n",
    "# The maximum total input sequence length after tokenization.\n",
    "# Sequences longer than this will be truncated, sequences shorter will be padded.\n",
    "tokenized_inputs = concatenate_datasets([dataset[\"train\"], dataset[\"test\"]]).map(lambda x: tokenizer(x[\"Content\"], truncation=True), batched=True, remove_columns=[\"Content\", \"Summary\"])\n",
    "max_source_length = max([len(x) for x in tokenized_inputs[\"input_ids\"]])\n",
    "print(f\"Max source length: {max_source_length}\")\n",
    "\n",
    "# The maximum total sequence length for target text after tokenization.\n",
    "# Sequences longer than this will be truncated, sequences shorter will be padded.\"\n",
    "tokenized_targets = concatenate_datasets([dataset[\"train\"], dataset[\"test\"]]).map(lambda x: tokenizer(x[\"Summary\"], truncation=True), batched=True, remove_columns=[\"Content\", \"Summary\"])\n",
    "max_target_length = max([len(x) for x in tokenized_targets[\"input_ids\"]])\n",
    "print(f\"Max target length: {max_target_length}\")"
   ]
  },
  {
   "cell_type": "code",
   "execution_count": 22,
   "id": "b7e32648-e14d-4656-8849-3da7e9130143",
   "metadata": {},
   "outputs": [
    {
     "data": {
      "application/vnd.jupyter.widget-view+json": {
       "model_id": "b1c0caecfbc14109babcaa45e40d73b0",
       "version_major": 2,
       "version_minor": 0
      },
      "text/plain": [
       "A Jupyter Widget"
      ]
     },
     "metadata": {},
     "output_type": "display_data"
    },
    {
     "data": {
      "application/vnd.jupyter.widget-view+json": {
       "model_id": "fa870cd98cf24c91bff56900b29f3126",
       "version_major": 2,
       "version_minor": 0
      },
      "text/plain": [
       "A Jupyter Widget"
      ]
     },
     "metadata": {},
     "output_type": "display_data"
    },
    {
     "name": "stdout",
     "output_type": "stream",
     "text": [
      "Keys of tokenized dataset: ['input_ids', 'attention_mask', 'labels']\n"
     ]
    }
   ],
   "source": [
    "def preprocess_function(sample, padding=\"max_length\"):\n",
    "    inputs = [item for item in sample[\"Content\"]]\n",
    "    # tokenize inputs\n",
    "    model_inputs = tokenizer(inputs, max_length=max_source_length, padding=padding, truncation=True)\n",
    "\n",
    "    # Tokenize targets with the `text_target` keyword argument\n",
    "    labels = tokenizer(text_target=sample[\"Summary\"], max_length=max_target_length, padding=padding, truncation=True)\n",
    "\n",
    "    # If we are padding here, replace all tokenizer.pad_token_id in the labels by -100 when we want to ignore\n",
    "    # padding in the loss.\n",
    "    if padding == \"max_length\":\n",
    "        labels[\"input_ids\"] = [\n",
    "            [(l if l != tokenizer.pad_token_id else -100) for l in label] for label in labels[\"input_ids\"]\n",
    "        ]\n",
    "\n",
    "    model_inputs[\"labels\"] = labels[\"input_ids\"]\n",
    "    return model_inputs\n",
    "\n",
    "tokenized_dataset = dataset.map(preprocess_function, batched=True, remove_columns=[\"Content\", \"Summary\"])\n",
    "print(f\"Keys of tokenized dataset: {list(tokenized_dataset['train'].features)}\")"
   ]
  },
  {
   "cell_type": "code",
   "execution_count": null,
   "id": "813dc4ca-89f4-44d0-95b3-143dc0a83803",
   "metadata": {},
   "outputs": [
    {
     "name": "stderr",
     "output_type": "stream",
     "text": [
      "Pushing split train to the Hub.\n"
     ]
    },
    {
     "data": {
      "application/vnd.jupyter.widget-view+json": {
       "model_id": "3a0bced16b4e4e9792e535d0de9ef889",
       "version_major": 2,
       "version_minor": 0
      },
      "text/plain": [
       "A Jupyter Widget"
      ]
     },
     "metadata": {},
     "output_type": "display_data"
    }
   ],
   "source": [
    "tokenized_dataset.push_to_hub('hsong1101/news_summarization')"
   ]
  }
 ],
 "metadata": {
  "kernelspec": {
   "display_name": "Flan T5",
   "language": "python",
   "name": "flan_t5"
  },
  "language_info": {
   "codemirror_mode": {
    "name": "ipython",
    "version": 3
   },
   "file_extension": ".py",
   "mimetype": "text/x-python",
   "name": "python",
   "nbconvert_exporter": "python",
   "pygments_lexer": "ipython3",
   "version": "3.8.10"
  }
 },
 "nbformat": 4,
 "nbformat_minor": 5
}
